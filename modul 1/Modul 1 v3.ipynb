{
  "nbformat": 4,
  "nbformat_minor": 0,
  "metadata": {
    "colab": {
      "name": "Copy of m02.ipynb",
      "provenance": [],
      "collapsed_sections": [
        "DQqXIWVl0IcR",
        "0EPiabT4qSd-",
        "OpC_9buJfwcB",
        "sORWLo8yfTK-",
        "5Xdp7tYS0Oz4",
        "oQ60SpkX6TFb",
        "cvs5LHFu0xQi",
        "hrzc4kno1JRl",
        "BV2RMfGV6do2",
        "aRxKqB_V1vlu",
        "_LKcKoKQ2Khi",
        "NQlydo8p4BGP",
        "2p0JbjNp4E0O",
        "QxH_Rn-h4L9U"
      ],
      "toc_visible": true
    },
    "kernelspec": {
      "name": "python3",
      "display_name": "Python 3"
    }
  },
  "cells": [
    {
      "cell_type": "markdown",
      "metadata": {
        "id": "9KkIeN-uuBDb"
      },
      "source": [
        "m02 Modul 1 praktikum datamining\r\n",
        "Manipulasi array menggunakan numpy\r\n"
      ]
    },
    {
      "cell_type": "markdown",
      "metadata": {
        "id": "DQqXIWVl0IcR"
      },
      "source": [
        "#Modul Kelas"
      ]
    },
    {
      "cell_type": "markdown",
      "metadata": {
        "id": "0EPiabT4qSd-"
      },
      "source": [
        "##Kode 1"
      ]
    },
    {
      "cell_type": "code",
      "metadata": {
        "colab": {
          "base_uri": "https://localhost:8080/"
        },
        "id": "N4KuxYsuwH6J",
        "outputId": "c6797c8c-a490-4a9f-bee0-ec2de853ed8e"
      },
      "source": [
        "import numpy\r\n",
        "arr = numpy.array([1, 2, 3, 4, 5])\r\n",
        "print(arr)"
      ],
      "execution_count": null,
      "outputs": [
        {
          "output_type": "stream",
          "text": [
            "[1 2 3 4 5]\n"
          ],
          "name": "stdout"
        }
      ]
    },
    {
      "cell_type": "markdown",
      "metadata": {
        "id": "fYyT7dMZrq57"
      },
      "source": [
        "* Jelaskan fungsi dari library numpy\r\n",
        "* Jelaskan perbedaan numpy dengan list pada python\r\n",
        "* Jelakan tentang ndarray\r\n",
        "* Jelakan fungsi baris 1\r\n",
        "* Jelakan fungsi baris 2"
      ]
    },
    {
      "cell_type": "markdown",
      "metadata": {
        "id": "OpC_9buJfwcB"
      },
      "source": [
        "##Kode 2"
      ]
    },
    {
      "cell_type": "code",
      "metadata": {
        "id": "BYkWeyTLf8KR",
        "colab": {
          "base_uri": "https://localhost:8080/"
        },
        "outputId": "d2be3ee5-d467-48e3-922c-dcf33a072eae"
      },
      "source": [
        "import numpy as np\r\n",
        "arr = np.array([[[1, 2, 3], [4, 5, 6]], [[7, 8, 9], [10, 11, 12]]])\r\n",
        "print(arr[0, 1, 2]) #baris 3"
      ],
      "execution_count": null,
      "outputs": [
        {
          "output_type": "stream",
          "text": [
            "6\n"
          ],
          "name": "stdout"
        }
      ]
    },
    {
      "cell_type": "code",
      "metadata": {
        "colab": {
          "base_uri": "https://localhost:8080/"
        },
        "id": "l9KNdiQDgBe2",
        "outputId": "f33eeaf8-e963-479f-fbd7-7c48e16846e0"
      },
      "source": [
        "import numpy as np\r\n",
        "arr = np.array([1, 2, 3, 4, 5, 6, 7])\r\n",
        "print(arr[:4]) #baris 7"
      ],
      "execution_count": null,
      "outputs": [
        {
          "output_type": "stream",
          "text": [
            "[1 2 3 4]\n"
          ],
          "name": "stdout"
        }
      ]
    },
    {
      "cell_type": "code",
      "metadata": {
        "colab": {
          "base_uri": "https://localhost:8080/"
        },
        "id": "f0ng5m0vgESy",
        "outputId": "e12dd170-8fbc-452e-cff5-9e53c89b73f1"
      },
      "source": [
        "import numpy as np\r\n",
        "arr = np.array([[1, 2, 3, 4, 5], [6, 7, 8, 9, 10]])\r\n",
        "print(arr[0:2, 2]) #baris 10"
      ],
      "execution_count": null,
      "outputs": [
        {
          "output_type": "stream",
          "text": [
            "[3 8]\n"
          ],
          "name": "stdout"
        }
      ]
    },
    {
      "cell_type": "markdown",
      "metadata": {
        "id": "a2yHb6FYrR8A"
      },
      "source": [
        "* Jelaskan cara mengakses elemen array seperti kode pada baris 3\r\n",
        "* Jelaskan cara mengakses elemen array seperti kode pada baris 7\r\n",
        "* Jelaskan cara mengakses elemen array seperti kode pada baris 10\r\n"
      ]
    },
    {
      "cell_type": "markdown",
      "metadata": {
        "id": "sORWLo8yfTK-"
      },
      "source": [
        "##Kode 3"
      ]
    },
    {
      "cell_type": "code",
      "metadata": {
        "colab": {
          "base_uri": "https://localhost:8080/"
        },
        "id": "d2x4LmA7fPsM",
        "outputId": "d0d1d41d-0c8c-45e1-8ac7-627607da6098"
      },
      "source": [
        "import numpy as np\r\n",
        "arr1 = np.array([[1, 2], [3, 4]])\r\n",
        "arr2 = np.array([[5, 6], [7, 8]]) #baris 3\r\n",
        "arr = np.concatenate((arr1, arr2), axis=1)\r\n",
        "print(arr)"
      ],
      "execution_count": null,
      "outputs": [
        {
          "output_type": "stream",
          "text": [
            "[[1 2 5 6]\n",
            " [3 4 7 8]]\n"
          ],
          "name": "stdout"
        }
      ]
    },
    {
      "cell_type": "code",
      "metadata": {
        "colab": {
          "base_uri": "https://localhost:8080/"
        },
        "id": "dESvGtChc6xp",
        "outputId": "08524ad7-860a-4773-eb7b-ae160c1c0458"
      },
      "source": [
        "import numpy as np\r\n",
        "arr = np.array([[1, 2, 3], [4, 5, 6], [7, 8, 9], [10, 11, 12], [13, 14, 15], [16, 17, 18]])\r\n",
        "newarr = np.array_split(arr, 3, axis=0)\r\n",
        "print(newarr) #baris 9"
      ],
      "execution_count": null,
      "outputs": [
        {
          "output_type": "stream",
          "text": [
            "[array([[1, 2, 3],\n",
            "       [4, 5, 6]]), array([[ 7,  8,  9],\n",
            "       [10, 11, 12]]), array([[13, 14, 15],\n",
            "       [16, 17, 18]])]\n"
          ],
          "name": "stdout"
        }
      ]
    },
    {
      "cell_type": "markdown",
      "metadata": {
        "id": "vuH_uc7Gq3tD"
      },
      "source": [
        "* Jelaskan apa yang dilakukan di baris 3\r\n",
        "* Gantilah nilai axis menjadi 0. Jelaskan apa yang terjadi\r\n",
        "* Jelaskan apa yang dilakukan di baris 9\r\n",
        "* Gantilah nilai axis menjadi 0. Jelaskan apa yang terjadi\r\n",
        "\r\n"
      ]
    },
    {
      "cell_type": "markdown",
      "metadata": {
        "id": "5Xdp7tYS0Oz4"
      },
      "source": [
        "#Modul Tugas"
      ]
    },
    {
      "cell_type": "code",
      "metadata": {
        "id": "wavL79t82s9G"
      },
      "source": [
        "#inisialisasi library\r\n",
        "import numpy as np\r\n",
        "import numpy\r\n"
      ],
      "execution_count": null,
      "outputs": []
    },
    {
      "cell_type": "markdown",
      "metadata": {
        "id": "oQ60SpkX6TFb"
      },
      "source": [
        "##**Kode 1**"
      ]
    },
    {
      "cell_type": "markdown",
      "metadata": {
        "id": "cvs5LHFu0xQi"
      },
      "source": [
        "###f. Buatlah array 2D berikut menggunakan numpy\r\n",
        "\r\n",
        "![image.png](data:image/png;base64,iVBORw0KGgoAAAANSUhEUgAAAMYAAABaCAYAAADjPyllAAAGvklEQVR4Ae1dbW6jMBDljJF6oYqrdI/SHmR/9Bhe2cDrzOBkPaQ/4pm3EooHQtT3ZZsEs0vhPzJABk4MLKc93EEGyEBBMJZlKdzIQWYPyP5ABUMeyNauhsj8j/i1/qhIDKhImQ/qr/VHRWJABYORkAHrf7jBHsjGDfHDCtmkb3it/mDDHsjGDvHDCtmkZzAeKc5gMBjSH2CDxgAVkp80beqv9UcVipi/H+VWf5d5+yjfg9YmflhhkLFXe9t3+Xizv0Pdysffsb/T6g827IGxj3vFd20Ere9r0mBkxb/hvv0Z7Qq1d63/wwXj+8+tLO+fpXzlDEZe/AyGjrqqPsu67MNnymBkxr8Fo/b82GoHOfgv9Ijx+b4UDKUJg5Edv8rAfp0JP6iD5yJuMGwQbH3mQu2xxKiDMxQWr63/g2F6/B18mFZ2jtldFn+Ya4zaW1Zw523smwlLjCXu1evs+Hv6NE4Gp1NW/zDBOBGTvcfMhr9OnWQI9qnU+nVyRncHg9GlpbSR5s6hOXdnC0Y5X3yPhqIKnCcYTjtbYpynT/924sfkqWmJisSAiulNfgUA9df6oyIxoOKKr6Y/h/pr/VGRGFAxvcmvAKD+Wn9UlRhu5CCzB2SHooIhD2Rrs8eEFbJJ3/Ba/cGGPZCNHeKHFbJJz2A8UpzBYDCkP8AGjQEqJD9p2tRf64+KxICKNGGQQKm/1h8ViQEV0i9p2tRf64+KxICKNGGQQKm/1h/V9MTUm+a6v8WsZWQd1/T4D5cbHq4u1Dk+bsrXX3gYRpxgdBR85n78zse9/q4WirGOwIIJ0zHsd9k++zCMuMFovcbYIqVqkvmNsd127bnVWoZjfvwbGqzae/K2+7DB8IwWIYLROoK1rGolY6aOoar4ew+DCBqMStBSPL3n9D1mZ8Va6xwGHzo3Pf4ai198GEbIYLThdNAQx3RiemP0po6Oa47p8dupk60Poe+8WvwBg+EfLSpXlpg7/L3w7g7uRMFoo2P3W8mx6aTVP1ww2mix+L+ZscS8cALu/Gn7mmc8EMDWd07bd8+P3+DjiCEJ2XrN0e/u5ZkxjLHhr1jahpBIpP12DPwCG4MhyHiiGc4YTi6IH5OnxhwqEgMqnJaK8Xbqr/VHRWJARQynO1FQf60/KhIDKpyWivF26q/1R1WJ4UYOMntAdnEqGPJAtjZ7TFghm/QNr9UfbNgD2dghflghm/QMxiPFGQwGQ/oDbNAYoELyk6ZN/bX+qEgMqEgTBgmU+mv9UZEYUCH9kqZN/bX+qEgMqEgTBgmU+mv9UYUgZl+sU7G0LdNNdO0W897vMGN3GofQ/0j64QPHmhyLP04wTivYfHfaWmIOjmd+9SzvjYN/X/v+vpaFwSildBblYGH8gLvjGGMH21vR94CHKPihOW8739VuwdCrtTxLXKMY4/C+Z7So58TAX2cJuwcYjMMKpWyr937m2be32/BwGsMYBxfbNDLVwyD4MIRD/P+/Zh0xPLgPFqfvGOwIYesD6J1Xiz/OxfcJ8HYRNrrM1RJz+rhpdvhHiwptdvx8GMKgQTeixr6qjGCMg5ZtOjmO+zhv9mAcOPDKEeOgYuspq8Db5jNHDGNsHIyOkgdz9TUGfoGIwRBkPNEMZwwnF8SPq4rGHCoSAyqclorxduqv9UdFYkBFDKc7UVB/rT8qEgMqnJaK8Xbqr/VHVYnhRg4ye0B2cSoY8kC2NntMWCGb9A2v1R9s2APZ2CF+WCGb9AzGI8UZDAZD+gNs0BigQvKTpk39tf6oSAyoSBMGCZT6a/1RkRhQIf2Spk39tf6oSAyoSBMGCZT6a/1RhSGm3jwmfpMZvaEuBP6L2GtApsdvsP94YOxmUos/VjAaOWNEyN4yhDHa/3EtsDcu9FJfi1nW1hjy2Kxtz/Jeiz9QMPanQ3xdk9ESc+1TXumsegt64mA8+TCIOMFoRKxlfZe3deQ1hnd5a7SOwTNa1O7M4g8WjKXIBwA0cgafLWSJeaW+f/hvUfNsMa0a+IAQ+IHTv7zX4g8WDDNCOK45LDHgeNbG/gC6VF8+7Fp5R8t6mtU/TjDaxaceMXoPYbvnc0vMvffNtN8znYiD3z9aBA/GdvG94Hm1tn5s6emNUUcIYK9Yfeu/p8e/y/tbD4MINGL8mKGK3DZllODB2B84BuzLUkanUZWZGMHwdQbSERZ/sGBIqL62JcZ39vzvJn5EoYmJisSAivldfgEB9df6oyIxoOKCreY/hfpr/VGRGFAxv8svIKD+Wn9UlRhu5CCzB2R/gmDInWyTgewMMBjZHUD8XQYYjC4t3JmdgX/bK6zezowCqQAAAABJRU5ErkJggg==)"
      ]
    },
    {
      "cell_type": "code",
      "metadata": {
        "colab": {
          "base_uri": "https://localhost:8080/"
        },
        "id": "k3aDQyJh15J5",
        "outputId": "413bdcc4-be40-4650-86ad-f9c51fdf4a3a"
      },
      "source": [
        "arrf = numpy.array([[4,4,5],[7,6,4],[9,7,4],[6,3,7]])\r\n",
        "print(arrf)"
      ],
      "execution_count": null,
      "outputs": [
        {
          "output_type": "stream",
          "text": [
            "[[4 4 5]\n",
            " [7 6 4]\n",
            " [9 7 4]\n",
            " [6 3 7]]\n"
          ],
          "name": "stdout"
        }
      ]
    },
    {
      "cell_type": "markdown",
      "metadata": {
        "id": "hrzc4kno1JRl"
      },
      "source": [
        "###g. Buatlah array 3D berikut menggunakan numpy\r\n",
        "\r\n",
        "![image.png](data:image/png;base64,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)"
      ]
    },
    {
      "cell_type": "code",
      "metadata": {
        "colab": {
          "base_uri": "https://localhost:8080/"
        },
        "id": "3e02bJXx0Unp",
        "outputId": "c170ec1f-75f8-4f7f-8c7a-2b843f8d9241"
      },
      "source": [
        "arrg = np.array([[[7,8,5], [4,7,7], [7,1,9], [5,4,10]], [[2,1,2], [9,8,5], [3,7,3], [4,9,9]], [[2,9,3], [2,4,8], [1,6,6], [8,1,3]]])\r\n",
        "print(arrg[1,0,0])"
      ],
      "execution_count": null,
      "outputs": [
        {
          "output_type": "stream",
          "text": [
            "2\n"
          ],
          "name": "stdout"
        }
      ]
    },
    {
      "cell_type": "markdown",
      "metadata": {
        "id": "BV2RMfGV6do2"
      },
      "source": [
        "##**Kode 2**"
      ]
    },
    {
      "cell_type": "markdown",
      "metadata": {
        "id": "aRxKqB_V1vlu"
      },
      "source": [
        "###d. Tambahkan angka 1 pada setiap bilangan di baris ganjil array berikut. kemudian tambahkan angka 2 pada setiap bilangan di kolom genap array berikut.\r\n",
        "\r\n",
        "![image.png](data:image/png;base64,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)"
      ]
    },
    {
      "cell_type": "code",
      "metadata": {
        "colab": {
          "base_uri": "https://localhost:8080/"
        },
        "id": "jjdDiu4r2Jqa",
        "outputId": "4c442eda-51fc-4901-b3aa-07437d81bd49"
      },
      "source": [
        "arrd = np.array([[1,8,8,2],[8,2,1,2],[10,1,4,7],[1,4,7,8],[8,2,3,4]])\r\n",
        "print(arrd)\r\n",
        "print('----------------')\r\n",
        "\r\n",
        "# cara 1 manual\r\n",
        "for indexbaris, isibaris in enumerate(arrd):\r\n",
        "  for indexkolom, isikolom in enumerate(isibaris):\r\n",
        "    # print(f\"{baris} {kolom}\")\r\n",
        "    if indexbaris % 2 == 1:\r\n",
        "      arrd[indexbaris, indexkolom] += 1\r\n",
        "    if indexkolom % 2 == 0:\r\n",
        "      arrd[indexbaris, indexkolom] += 2\r\n",
        "print(arrd)\r\n",
        "print('----------------')\r\n",
        "\r\n",
        "#cara 2 smart ;v\r\n",
        "arrd3 = np.array([[1,8,8,2],[8,2,1,2],[10,1,4,7],[1,4,7,8],[8,2,3,4]])\r\n",
        "arrd3[1::2, :] += 1\r\n",
        "arrd3[:, 0::2] += 2\r\n",
        "print(arrd3)"
      ],
      "execution_count": null,
      "outputs": [
        {
          "output_type": "stream",
          "text": [
            "[[ 1  8  8  2]\n",
            " [ 8  2  1  2]\n",
            " [10  1  4  7]\n",
            " [ 1  4  7  8]\n",
            " [ 8  2  3  4]]\n",
            "----------------\n",
            "[[ 3  8 10  2]\n",
            " [11  3  4  3]\n",
            " [12  1  6  7]\n",
            " [ 4  5 10  9]\n",
            " [10  2  5  4]]\n",
            "----------------\n",
            "[[ 3  8 10  2]\n",
            " [11  3  4  3]\n",
            " [12  1  6  7]\n",
            " [ 4  5 10  9]\n",
            " [10  2  5  4]]\n"
          ],
          "name": "stdout"
        }
      ]
    },
    {
      "cell_type": "markdown",
      "metadata": {
        "id": "_LKcKoKQ2Khi"
      },
      "source": [
        "###e. Baliklah sumbu z array 3D berikut\r\n",
        "\r\n",
        "![image.png](data:image/png;base64,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)"
      ]
    },
    {
      "cell_type": "code",
      "metadata": {
        "colab": {
          "base_uri": "https://localhost:8080/"
        },
        "id": "l2EA1WKe3h1L",
        "outputId": "34fc12a2-2817-4042-f358-020dde75fef1"
      },
      "source": [
        "#gk paham maksude balik sumbu z ;v\r\n",
        "arre = np.array([[[7,8,5], [4,7,7], [7,1,9], [5,4,10]], [[2,1,2], [9,8,5], [3,7,3], [4,9,9]], [[2,9,3], [2,4,8], [1,6,6], [8,1,3]]])\r\n",
        "print(arre)\r\n",
        "print('----------------')\r\n",
        "\r\n",
        "#cara 1 manual\r\n",
        "arrebaru = np.array([isibaris for isibaris in arre[::-1]])\r\n",
        "print(arrebaru)\r\n",
        "print('----------------')\r\n",
        "\r\n",
        "#cara 2 smart ;v\r\n",
        "print(arre[::-1, :, :])"
      ],
      "execution_count": null,
      "outputs": [
        {
          "output_type": "stream",
          "text": [
            "[[[ 7  8  5]\n",
            "  [ 4  7  7]\n",
            "  [ 7  1  9]\n",
            "  [ 5  4 10]]\n",
            "\n",
            " [[ 2  1  2]\n",
            "  [ 9  8  5]\n",
            "  [ 3  7  3]\n",
            "  [ 4  9  9]]\n",
            "\n",
            " [[ 2  9  3]\n",
            "  [ 2  4  8]\n",
            "  [ 1  6  6]\n",
            "  [ 8  1  3]]]\n",
            "----------------\n",
            "[[[ 2  9  3]\n",
            "  [ 2  4  8]\n",
            "  [ 1  6  6]\n",
            "  [ 8  1  3]]\n",
            "\n",
            " [[ 2  1  2]\n",
            "  [ 9  8  5]\n",
            "  [ 3  7  3]\n",
            "  [ 4  9  9]]\n",
            "\n",
            " [[ 7  8  5]\n",
            "  [ 4  7  7]\n",
            "  [ 7  1  9]\n",
            "  [ 5  4 10]]]\n",
            "----------------\n",
            "[[[ 2  9  3]\n",
            "  [ 2  4  8]\n",
            "  [ 1  6  6]\n",
            "  [ 8  1  3]]\n",
            "\n",
            " [[ 2  1  2]\n",
            "  [ 9  8  5]\n",
            "  [ 3  7  3]\n",
            "  [ 4  9  9]]\n",
            "\n",
            " [[ 7  8  5]\n",
            "  [ 4  7  7]\n",
            "  [ 7  1  9]\n",
            "  [ 5  4 10]]]\n"
          ],
          "name": "stdout"
        }
      ]
    },
    {
      "cell_type": "markdown",
      "metadata": {
        "id": "NQlydo8p4BGP"
      },
      "source": [
        "###f. Ubahlah array pada soal e menjadi array 2D berukuran 6 x 6 (hint : gunakan perintah reshape)"
      ]
    },
    {
      "cell_type": "code",
      "metadata": {
        "colab": {
          "base_uri": "https://localhost:8080/"
        },
        "id": "MLCaCkZv4EY0",
        "outputId": "88dd7636-5132-4bd1-8e55-b20c04a0ba37"
      },
      "source": [
        "arre6x6 = arre.reshape(6, 6)\r\n",
        "print(arre)\r\n",
        "print('----------------')\r\n",
        "\r\n",
        "print(arre6x6)"
      ],
      "execution_count": null,
      "outputs": [
        {
          "output_type": "stream",
          "text": [
            "[[[ 7  8  5]\n",
            "  [ 4  7  7]\n",
            "  [ 7  1  9]\n",
            "  [ 5  4 10]]\n",
            "\n",
            " [[ 2  1  2]\n",
            "  [ 9  8  5]\n",
            "  [ 3  7  3]\n",
            "  [ 4  9  9]]\n",
            "\n",
            " [[ 2  9  3]\n",
            "  [ 2  4  8]\n",
            "  [ 1  6  6]\n",
            "  [ 8  1  3]]]\n",
            "----------------\n",
            "[[ 7  8  5  4  7  7]\n",
            " [ 7  1  9  5  4 10]\n",
            " [ 2  1  2  9  8  5]\n",
            " [ 3  7  3  4  9  9]\n",
            " [ 2  9  3  2  4  8]\n",
            " [ 1  6  6  8  1  3]]\n"
          ],
          "name": "stdout"
        }
      ]
    },
    {
      "cell_type": "markdown",
      "metadata": {
        "id": "2p0JbjNp4E0O"
      },
      "source": [
        "##**Kode 3**"
      ]
    },
    {
      "cell_type": "markdown",
      "metadata": {
        "id": "QxH_Rn-h4L9U"
      },
      "source": [
        "###e. Ubahlah matris kiri menjadi matriks sebelah kanan\r\n",
        "\r\n",
        "![image.png](data:image/png;base64,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)"
      ]
    },
    {
      "cell_type": "code",
      "metadata": {
        "colab": {
          "base_uri": "https://localhost:8080/"
        },
        "id": "9DC8-gi44lrD",
        "outputId": "c957ac84-24eb-4dbe-cb4d-673d52a2d389"
      },
      "source": [
        "arrek3 = np.array([[5,10,10,7],[7,8,4,10],[9,10,2,5],[1,8,9,3],[6,10,5,2],[4,6,9,4]])\r\n",
        "print(arrek3)\r\n",
        "\r\n",
        "\r\n",
        "# cara 1 manual melelahkan ;v\r\n",
        "##split baris\r\n",
        "newarr, newarr2 = np.array_split(arrek3, 2, axis=0)\r\n",
        "##split kolom\r\n",
        "newarr11, newarr12 = np.array_split(newarr, 2, axis=1)\r\n",
        "newarr21, newarr22 = np.array_split(newarr2, 2, axis=1)\r\n",
        "\r\n",
        "##gabung kolom\r\n",
        "arre1 = np.concatenate((newarr22, newarr21), axis=1)\r\n",
        "arre2 = np.concatenate((newarr12, newarr11), axis=1)\r\n",
        "##gabung baris\r\n",
        "arre = np.concatenate((arre1, arre2), axis=0)\r\n",
        "print('----------------')\r\n",
        "print(arre)\r\n",
        "\r\n",
        "# cara 2 smart ;)\r\n",
        "print('----------------')\r\n",
        "# print(arrek3[3:,2:])\r\n",
        "arre2 = np.concatenate((np.concatenate((arrek3[3:,2:], arrek3[3:,:2]), axis=1), np.concatenate((arrek3[:3,2:], arrek3[:3,:2]), axis=1)), axis=0)\r\n",
        "print(arre2)\r\n",
        "\r\n"
      ],
      "execution_count": null,
      "outputs": [
        {
          "output_type": "stream",
          "text": [
            "[[ 5 10 10  7]\n",
            " [ 7  8  4 10]\n",
            " [ 9 10  2  5]\n",
            " [ 1  8  9  3]\n",
            " [ 6 10  5  2]\n",
            " [ 4  6  9  4]]\n",
            "----------------\n",
            "[[ 9  3  1  8]\n",
            " [ 5  2  6 10]\n",
            " [ 9  4  4  6]\n",
            " [10  7  5 10]\n",
            " [ 4 10  7  8]\n",
            " [ 2  5  9 10]]\n",
            "----------------\n",
            "[[ 9  3  1  8]\n",
            " [ 5  2  6 10]\n",
            " [ 9  4  4  6]\n",
            " [10  7  5 10]\n",
            " [ 4 10  7  8]\n",
            " [ 2  5  9 10]]\n"
          ],
          "name": "stdout"
        }
      ]
    }
  ]
}